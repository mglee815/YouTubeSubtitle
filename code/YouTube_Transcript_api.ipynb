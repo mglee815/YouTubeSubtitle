{
 "cells": [],
 "metadata": {
  "kernelspec": {
   "display_name": "Python 3.8.12 ('svmglee')",
   "language": "python",
   "name": "python3"
  },
  "language_info": {
   "codemirror_mode": {
    "name": "ipython",
    "version": 3
   },
   "file_extension": ".py",
   "mimetype": "text/x-python",
   "name": "python",
   "nbconvert_exporter": "python",
   "pygments_lexer": "ipython3",
   "version": "3.8.12"
  },
  "orig_nbformat": 4,
  "vscode": {
   "interpreter": {
    "hash": "f75aeab59ff03ee2e291b4684758ee4ba4238bacc5beaacd4e7ff7cc7ef03731"
   }
  }
 },
 "nbformat": 4,
 "nbformat_minor": 2
}
